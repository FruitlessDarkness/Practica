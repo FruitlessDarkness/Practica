{
 "cells": [
  {
   "cell_type": "markdown",
   "metadata": {},
   "source": [
    "El condicional mas basico es la condicional if\n",
    "\n",
    "<img src=\"if.png\">\n",
    "\n",
    "Condicional= Decision\n",
    "\n",
    "En palabras sencillas es tomar una decision y saber que pasara si eliges por ejemplo entrar o no a clases "
   ]
  },
  {
   "cell_type": "markdown",
   "metadata": {},
   "source": [
    "1. Crea un diagrama en el que decidas si entras o no a clases <br>\n",
    "<img src=\"Diagrama.jpg\">"
   ]
  },
  {
   "cell_type": "markdown",
   "metadata": {},
   "source": [
    "2. Crea un programa que diga si debe de tomar coca-cola fria o no dependiendo de la temperatura, es decir, le preguntas si tiene calor, si la respuesta es si, debe de tomar coca-cola fria\n",
    "en caso de que no solo debe de tomar coca-cola\n"
   ]
  },
  {
   "cell_type": "code",
   "execution_count": 35,
   "metadata": {},
   "outputs": [
    {
     "name": "stdout",
     "output_type": "stream",
     "text": [
      "Tomate una Coca-Cola Fria\n"
     ]
    }
   ],
   "source": [
    "a= input(\"Tienes Calor\")\n",
    "if a==\"si\":\n",
    "    print(\"Tomate una Coca-Cola Fria\")\n",
    "else:\n",
    "    print(\"Tomate una Coca-Cola\")"
   ]
  },
  {
   "cell_type": "markdown",
   "metadata": {},
   "source": [
    "3. Crea un programa que diga si le alcanza para el camion o no, sabiendo que el camion cuesta 12 pesos "
   ]
  },
  {
   "cell_type": "code",
   "execution_count": 36,
   "metadata": {},
   "outputs": [
    {
     "name": "stdout",
     "output_type": "stream",
     "text": [
      "Si te alcanza para pagar al camion\n"
     ]
    }
   ],
   "source": [
    "Mon = int(input(\"¿Cuanto dinero tienes? \"))\n",
    "if Mon > 12: \n",
    "    print (\"Si te alcanza para pagar al camion\")\n",
    "else:\n",
    "    print(\"No te alcanza para pagar el camion\")"
   ]
  },
  {
   "cell_type": "markdown",
   "metadata": {},
   "source": [
    "4. Crea un programa que diga si eres mayor o menor de edad "
   ]
  },
  {
   "cell_type": "code",
   "execution_count": 37,
   "metadata": {},
   "outputs": [
    {
     "name": "stdout",
     "output_type": "stream",
     "text": [
      "Eres mayor de edad.\n"
     ]
    }
   ],
   "source": [
    "age = int(input(\"¿Cuál es tu edad? \"))\n",
    "if age < 18: \n",
    "    print (\"Eres menor de edad.\")\n",
    "else:\n",
    "    print(\"Eres mayor de edad.\")"
   ]
  },
  {
   "cell_type": "markdown",
   "metadata": {},
   "source": [
    "5. Agrega un programa con ifs anidados"
   ]
  },
  {
   "cell_type": "code",
   "execution_count": 38,
   "metadata": {},
   "outputs": [
    {
     "name": "stdout",
     "output_type": "stream",
     "text": [
      "Tu contraseña es suficientemente larga.\n",
      "Además es la contraseña correcta.\n"
     ]
    }
   ],
   "source": [
    "password = input(\"Ingrese la contraseña: \")\n",
    "\n",
    "if (len(password) >= 8):\n",
    "    print('Tu contraseña es suficientemente larga.')\n",
    "\n",
    "    if(password == 'miClaveSegura'):\n",
    "        print(\"Además es la contraseña correcta.\")\n",
    "    else:\n",
    "        print(\"Pero es incorrecta.\")\n",
    "else:\n",
    "    print('Tu contraseña es muy corta e insegura.')\n",
    "\n",
    "    if (password != 'miClaveSegura'):\n",
    "        print(\"Además, es incorrecta (por supuesto).\")"
   ]
  }
 ],
 "metadata": {
  "kernelspec": {
   "display_name": "Python 3",
   "language": "python",
   "name": "python3"
  },
  "language_info": {
   "codemirror_mode": {
    "name": "ipython",
    "version": 3
   },
   "file_extension": ".py",
   "mimetype": "text/x-python",
   "name": "python",
   "nbconvert_exporter": "python",
   "pygments_lexer": "ipython3",
   "version": "3.11.3"
  }
 },
 "nbformat": 4,
 "nbformat_minor": 2
}
